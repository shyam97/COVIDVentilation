{
 "cells": [
  {
   "cell_type": "code",
   "execution_count": 30,
   "metadata": {},
   "outputs": [],
   "source": [
    "import sys, os"
   ]
  },
  {
   "cell_type": "code",
   "execution_count": 35,
   "metadata": {},
   "outputs": [
    {
     "name": "stdout",
     "output_type": "stream",
     "text": [
      "e:\\Studies\\COVIDProject\\OneProjectOutput\\Post-processing\n",
      "['particles_0000.hsf', 'particles_0001.hsf', 'particles_0002.hsf', 'particles_0003.hsf', 'particles_0004.hsf', 'particles_0005.hsf', 'particles_0006.hsf', 'particles_0007.hsf', 'particles_0008.hsf', 'particles_0009.hsf', 'particles_0010.hsf', 'particles_0011.hsf', 'particles_0012.hsf', 'particles_0013.hsf', 'particles_0014.hsf', 'particles_0015.hsf', 'particles_0016.hsf', 'particles_0017.hsf', 'particles_0018.hsf', 'particles_0019.hsf', 'particles_0020.hsf', 'particles_0021.hsf', 'particles_0022.hsf', 'particles_0023.hsf', 'particles_0024.hsf', 'particles_0025.hsf', 'particles_0026.hsf', 'particles_0027.hsf', 'particles_0028.hsf', 'particles_0029.hsf', 'particles_0030.hsf', 'particles_0031.hsf', 'particles_0032.hsf', 'particles_0033.hsf', 'particles_0034.hsf', 'particles_0035.hsf', 'particles_0036.hsf', 'particles_0037.hsf', 'particles_0038.hsf', 'particles_0039.hsf', 'particles_0040.hsf', 'particles_0041.hsf', 'particles_0042.hsf', 'particles_0043.hsf', 'particles_0044.hsf', 'particles_0045.hsf', 'particles_0046.hsf', 'particles_0047.hsf', 'particles_0048.hsf', 'particles_0049.hsf', 'particles_0050.hsf', 'particles_0051.hsf', 'particles_0052.hsf', 'particles_0053.hsf', 'particles_0054.hsf', 'particles_0055.hsf', 'particles_0056.hsf', 'particles_0057.hsf', 'particles_0058.hsf', 'particles_0059.hsf', 'particles_0060.hsf', 'particles_0061.hsf', 'particles_0062.hsf', 'particles_0063.hsf', 'particles_0064.hsf', 'particles_0065.hsf', 'particles_0066.hsf', 'particles_0067.hsf', 'particles_0068.hsf', 'particles_0069.hsf', 'particles_0070.hsf', 'particles_0071.hsf', 'particles_0072.hsf', 'particles_0073.hsf', 'particles_0074.hsf', 'particles_0075.hsf', 'particles_0076.hsf', 'particles_0077.hsf', 'particles_0078.hsf', 'particles_0079.hsf', 'particles_0080.hsf', 'particles_0081.hsf', 'particles_0082.hsf', 'particles_0083.hsf', 'particles_0084.hsf', 'particles_0085.hsf', 'particles_0086.hsf', 'particles_0087.hsf', 'particles_0088.hsf', 'particles_0089.hsf', 'particles_0090.hsf', 'particles_0091.hsf', 'particles_0092.hsf', 'particles_0093.hsf', 'particles_0094.hsf', 'particles_0095.hsf', 'particles_0096.hsf', 'particles_0097.hsf', 'particles_0098.hsf', 'particles_0099.hsf', 'particles_0100.hsf', 'particles_0101.hsf', 'particles_0102.hsf', 'particles_0103.hsf', 'particles_0104.hsf', 'particles_0105.hsf', 'particles_0106.hsf', 'particles_0107.hsf', 'particles_0108.hsf', 'particles_0109.hsf', 'particles_0110.hsf', 'particles_0111.hsf', 'particles_0112.hsf', 'particles_0113.hsf', 'particles_0114.hsf', 'particles_0115.hsf', 'particles_0116.hsf', 'particles_0117.hsf', 'particles_0118.hsf', 'particles_0119.hsf', 'particles_0120.hsf', 'particles_0121.hsf', 'particles_0122.hsf', 'particles_0123.hsf', 'particles_0124.hsf', 'particles_0125.hsf', 'particles_0126.hsf', 'particles_0127.hsf', 'particles_0128.hsf', 'particles_0129.hsf', 'particles_0130.hsf', 'particles_0131.hsf', 'particles_0132.hsf', 'particles_0133.hsf', 'particles_0134.hsf', 'particles_0135.hsf', 'particles_0136.hsf', 'particles_0137.hsf', 'particles_0138.hsf', 'particles_0139.hsf', 'particles_0140.hsf', 'particles_0141.hsf', 'particles_0142.hsf', 'particles_0143.hsf', 'particles_0144.hsf', 'particles_0145.hsf', 'particles_0146.hsf', 'particles_0147.hsf', 'particles_0148.hsf', 'particles_0149.hsf', 'particles_0150.hsf', 'particles_0151.hsf', 'particles_0152.hsf', 'particles_0153.hsf', 'particles_0154.hsf', 'particles_0155.hsf', 'particles_0156.hsf', 'particles_0157.hsf', 'particles_0158.hsf', 'particles_0159.hsf', 'particles_0160.hsf', 'particles_0161.hsf', 'particles_0162.hsf', 'particles_0163.hsf', 'particles_0164.hsf', 'particles_0165.hsf', 'particles_0166.hsf', 'particles_0167.hsf', 'particles_0168.hsf', 'particles_0169.hsf', 'particles_0170.hsf', 'particles_0171.hsf', 'particles_0172.hsf', 'particles_0173.hsf', 'particles_0174.hsf', 'particles_0175.hsf', 'particles_0176.hsf', 'particles_0177.hsf', 'particles_0178.hsf', 'particles_0179.hsf', 'particles_0180.hsf', 'particles_0181.hsf', 'particles_0182.hsf', 'particles_0183.hsf', 'particles_0184.hsf', 'particles_0185.hsf', 'particles_0186.hsf', 'particles_0187.hsf', 'particles_0188.hsf', 'particles_0189.hsf', 'particles_0190.hsf', 'particles_0191.hsf', 'particles_0192.hsf', 'particles_0193.hsf', 'particles_0194.hsf', 'particles_0195.hsf', 'particles_0196.hsf']\n",
      "['particles_0403.hsf', 'particles_0404.hsf', 'particles_0405.hsf', 'particles_0406.hsf', 'particles_0407.hsf', 'particles_0408.hsf', 'particles_0409.hsf', 'particles_0410.hsf', 'particles_0411.hsf', 'particles_0412.hsf', 'particles_0413.hsf', 'particles_0414.hsf', 'particles_0415.hsf', 'particles_0416.hsf', 'particles_0417.hsf', 'particles_0418.hsf', 'particles_0419.hsf', 'particles_0420.hsf', 'particles_0421.hsf', 'particles_0422.hsf', 'particles_0423.hsf', 'particles_0424.hsf', 'particles_0425.hsf', 'particles_0426.hsf', 'particles_0427.hsf', 'particles_0428.hsf', 'particles_0429.hsf', 'particles_0430.hsf', 'particles_0431.hsf', 'particles_0432.hsf', 'particles_0433.hsf', 'particles_0434.hsf', 'particles_0435.hsf', 'particles_0436.hsf', 'particles_0437.hsf', 'particles_0438.hsf', 'particles_0439.hsf', 'particles_0440.hsf', 'particles_0441.hsf', 'particles_0442.hsf', 'particles_0443.hsf', 'particles_0444.hsf', 'particles_0445.hsf', 'particles_0446.hsf', 'particles_0447.hsf', 'particles_0448.hsf', 'particles_0449.hsf', 'particles_0450.hsf', 'particles_0451.hsf', 'particles_0452.hsf', 'particles_0453.hsf', 'particles_0454.hsf', 'particles_0455.hsf', 'particles_0456.hsf', 'particles_0457.hsf', 'particles_0458.hsf', 'particles_0459.hsf', 'particles_0460.hsf', 'particles_0461.hsf', 'particles_0462.hsf', 'particles_0463.hsf', 'particles_0464.hsf', 'particles_0465.hsf', 'particles_0466.hsf', 'particles_0467.hsf', 'particles_0468.hsf', 'particles_0469.hsf', 'particles_0470.hsf', 'particles_0471.hsf', 'particles_0472.hsf', 'particles_0473.hsf', 'particles_0474.hsf', 'particles_0475.hsf', 'particles_0476.hsf', 'particles_0477.hsf', 'particles_0478.hsf', 'particles_0479.hsf', 'particles_0480.hsf', 'particles_0481.hsf', 'particles_0482.hsf', 'particles_0483.hsf', 'particles_0484.hsf', 'particles_0485.hsf', 'particles_0486.hsf', 'particles_0487.hsf', 'particles_0488.hsf', 'particles_0489.hsf', 'particles_0490.hsf', 'particles_0491.hsf', 'particles_0492.hsf', 'particles_0493.hsf', 'particles_0494.hsf', 'particles_0495.hsf', 'particles_0496.hsf', 'particles_0497.hsf', 'particles_0498.hsf', 'particles_0499.hsf', 'particles_0500.hsf', 'particles_0501.hsf', 'particles_0502.hsf', 'particles_0503.hsf', 'particles_0504.hsf', 'particles_0505.hsf', 'particles_0506.hsf', 'particles_0507.hsf', 'particles_0508.hsf', 'particles_0509.hsf', 'particles_0510.hsf', 'particles_0511.hsf', 'particles_0512.hsf', 'particles_0513.hsf', 'particles_0514.hsf', 'particles_0515.hsf', 'particles_0516.hsf', 'particles_0517.hsf', 'particles_0518.hsf', 'particles_0519.hsf', 'particles_0520.hsf', 'particles_0521.hsf', 'particles_0522.hsf', 'particles_0523.hsf', 'particles_0524.hsf', 'particles_0525.hsf', 'particles_0526.hsf', 'particles_0527.hsf', 'particles_0528.hsf', 'particles_0529.hsf', 'particles_0530.hsf', 'particles_0531.hsf', 'particles_0532.hsf', 'particles_0533.hsf', 'particles_0534.hsf', 'particles_0535.hsf', 'particles_0536.hsf', 'particles_0537.hsf', 'particles_0538.hsf', 'particles_0539.hsf', 'particles_0540.hsf', 'particles_0541.hsf', 'particles_0542.hsf', 'particles_0543.hsf', 'particles_0544.hsf', 'particles_0545.hsf', 'particles_0546.hsf', 'particles_0547.hsf', 'particles_0548.hsf', 'particles_0549.hsf', 'particles_0550.hsf', 'particles_0551.hsf', 'particles_0552.hsf', 'particles_0553.hsf', 'particles_0554.hsf', 'particles_0555.hsf', 'particles_0556.hsf', 'particles_0557.hsf', 'particles_0558.hsf', 'particles_0559.hsf', 'particles_0560.hsf', 'particles_0561.hsf', 'particles_0562.hsf', 'particles_0563.hsf', 'particles_0564.hsf', 'particles_0565.hsf', 'particles_0566.hsf', 'particles_0567.hsf', 'particles_0568.hsf', 'particles_0569.hsf', 'particles_0570.hsf', 'particles_0571.hsf', 'particles_0572.hsf', 'particles_0573.hsf', 'particles_0574.hsf', 'particles_0575.hsf', 'particles_0576.hsf', 'particles_0577.hsf', 'particles_0578.hsf', 'particles_0579.hsf', 'particles_0580.hsf', 'particles_0581.hsf', 'particles_0582.hsf', 'particles_0583.hsf', 'particles_0584.hsf', 'particles_0585.hsf', 'particles_0586.hsf', 'particles_0587.hsf', 'particles_0588.hsf', 'particles_0589.hsf', 'particles_0590.hsf', 'particles_0591.hsf', 'particles_0592.hsf', 'particles_0593.hsf', 'particles_0594.hsf', 'particles_0595.hsf', 'particles_0596.hsf', 'particles_0597.hsf', 'particles_0598.hsf', 'particles_0599.hsf']\n"
     ]
    }
   ],
   "source": [
    "print(os.getcwd())\n",
    "dirname = '../Case1/Temp/'\n",
    "names = os.listdir(dirname)\n",
    "pics = len(names)\n",
    "print(names)\n",
    "\n",
    "for i in range(pics):\n",
    "    filename = dirname + names[i]\n",
    "    index = int(filename[-8:-4])\n",
    "    newindex = index+403\n",
    "    # newindex = index+325\n",
    "    # newindex = index+173\n",
    "    newname = filename[:-8] + str(newindex).zfill(4) + filename[-4:]\n",
    "    # print(filename, newname)\n",
    "    os.rename(filename, newname)\n",
    "\n",
    "print(os.listdir(dirname))"
   ]
  },
  {
   "cell_type": "code",
   "execution_count": null,
   "metadata": {},
   "outputs": [],
   "source": []
  }
 ],
 "metadata": {
  "kernelspec": {
   "display_name": "Python 3.10.8 64-bit (microsoft store)",
   "language": "python",
   "name": "python3"
  },
  "language_info": {
   "codemirror_mode": {
    "name": "ipython",
    "version": 3
   },
   "file_extension": ".py",
   "mimetype": "text/x-python",
   "name": "python",
   "nbconvert_exporter": "python",
   "pygments_lexer": "ipython3",
   "version": "3.10.9 (tags/v3.10.9:1dd9be6, Dec  6 2022, 20:01:21) [MSC v.1934 64 bit (AMD64)]"
  },
  "orig_nbformat": 4,
  "vscode": {
   "interpreter": {
    "hash": "c374d59a8a7d1a60405d6af94a94d650e228df23928150251142bb372fab1891"
   }
  }
 },
 "nbformat": 4,
 "nbformat_minor": 2
}

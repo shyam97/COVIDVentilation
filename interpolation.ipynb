{
 "cells": [
  {
   "cell_type": "markdown",
   "metadata": {},
   "source": [
    "# Input"
   ]
  },
  {
   "cell_type": "code",
   "execution_count": null,
   "metadata": {},
   "outputs": [],
   "source": [
    "# Enter desired resolution of mesh in metres.\n",
    "# Room size is 4m x 3m. A mesh resolution of 0.1m is recommended.\n",
    "dx = 0.1\n",
    "\n",
    "# Save output grid data as csv? Output will be saved as output.csv in same folder.\n",
    "savecsv = True\n",
    "\n",
    "# Scroll down to view interpolated data and other output."
   ]
  },
  {
   "cell_type": "markdown",
   "metadata": {},
   "source": [
    "# Header Files"
   ]
  },
  {
   "cell_type": "code",
   "execution_count": null,
   "metadata": {},
   "outputs": [],
   "source": [
    "import numpy as np\n",
    "import pandas as pd\n",
    "import matplotlib.pyplot as plt\n",
    "from scipy.interpolate import griddata\n",
    "from mpl_toolkits.axes_grid1 import make_axes_locatable"
   ]
  },
  {
   "cell_type": "markdown",
   "metadata": {},
   "source": [
    "# Import CFD Data"
   ]
  },
  {
   "cell_type": "code",
   "execution_count": null,
   "metadata": {},
   "outputs": [],
   "source": [
    "table = pd.read_csv('export.csv', delimiter=',')\n",
    "array = np.array(table)\n",
    "count = 0\n",
    "print('Array has the following variables.')\n",
    "for name in table.columns:\n",
    "    print(count, name)\n",
    "    count+=1"
   ]
  },
  {
   "cell_type": "code",
   "execution_count": null,
   "metadata": {},
   "outputs": [],
   "source": [
    "fig,ax = plt.subplots(1,1,num=1,figsize=(6,4),dpi=150)\n",
    "ax.scatter(array[:,7],array[:,9],s=5,c=array[:,3],cmap='viridis')\n",
    "ax.set_xlim([0,4])\n",
    "ax.set_ylim([0,3])\n",
    "ax.set_title('Raw CFD data before interpolation')"
   ]
  },
  {
   "cell_type": "markdown",
   "metadata": {},
   "source": [
    "# Interpolation\n",
    "\n",
    "<u><b>Cubic</b></u> interpolation scheme used for all variables."
   ]
  },
  {
   "cell_type": "code",
   "execution_count": null,
   "metadata": {},
   "outputs": [],
   "source": [
    "m = 4.0 + 1e-10\n",
    "n = 3.0 + 1e-10\n",
    "x = array[:,7]\n",
    "z = array[:,9]\n",
    "velocity = array[:,3]\n",
    "xvelocity = array[:,4]\n",
    "yvelocity = array[:,5]\n",
    "zvelocity = array[:,6]\n",
    "\n",
    "grid_x, grid_z = np.mgrid[dx/2:m-dx/2:dx, dx/2:n-dx/2:dx]\n",
    "\n",
    "grid_vel = griddata((x, z), velocity, (grid_x, grid_z), method='cubic')\n",
    "grid_u = griddata((x, z), xvelocity, (grid_x, grid_z), method='cubic')\n",
    "grid_v = griddata((x, z), yvelocity, (grid_x, grid_z), method='cubic')\n",
    "grid_w = griddata((x, z), zvelocity, (grid_x, grid_z), method='cubic')"
   ]
  },
  {
   "cell_type": "markdown",
   "metadata": {},
   "source": [
    "# Output plots"
   ]
  },
  {
   "cell_type": "code",
   "execution_count": null,
   "metadata": {},
   "outputs": [],
   "source": [
    "xcoord = grid_x.flatten()\n",
    "ycoord = np.ones(xcoord.size)*1.5\n",
    "zcoord = grid_z.flatten()\n",
    "magvel = grid_vel.flatten()\n",
    "x_vel = grid_u.flatten()\n",
    "y_vel = grid_v.flatten()\n",
    "z_vel = grid_w.flatten()"
   ]
  },
  {
   "cell_type": "code",
   "execution_count": null,
   "metadata": {},
   "outputs": [],
   "source": [
    "fig,ax = plt.subplots(1,1,num=1,figsize=(6,4),dpi=150)\n",
    "ax.scatter(xcoord,zcoord,s=5,c=magvel,cmap='viridis')\n",
    "ax.set_xlim([0,4])\n",
    "ax.set_ylim([0,3])\n",
    "ax.set_title('CFD data after interpolation')"
   ]
  },
  {
   "cell_type": "code",
   "execution_count": null,
   "metadata": {},
   "outputs": [],
   "source": [
    "fig,axs = plt.subplots(2,2,figsize = (12,9), dpi=150)\n",
    "\n",
    "axs = axs.flatten()\n",
    "\n",
    "im1 = axs[0].imshow(grid_vel.T,extent=[0,m,0,n])\n",
    "axs[0].set_xlabel('X [m]')\n",
    "axs[0].set_ylabel('Z [m]')\n",
    "axs[0].set_title('Velocity Magnitude [m/s]')\n",
    "divider = make_axes_locatable(axs[0])\n",
    "cax = divider.append_axes(\"right\", size=\"5%\", pad=0.1)\n",
    "plt.colorbar(im1, cax=cax)\n",
    "\n",
    "im2 = axs[1].imshow(grid_u.T,extent=[0,m,0,n])\n",
    "axs[1].set_xlabel('X [m]')\n",
    "axs[1].set_ylabel('Z [m]')\n",
    "axs[1].set_title('X - Velocity [m/s]')\n",
    "divider = make_axes_locatable(axs[1])\n",
    "cax = divider.append_axes(\"right\", size=\"5%\", pad=0.1)\n",
    "plt.colorbar(im2, cax=cax)\n",
    "\n",
    "im3 = axs[2].imshow(grid_v.T,extent=[0,m,0,n])\n",
    "axs[2].set_xlabel('X [m]')\n",
    "axs[2].set_ylabel('Z [m]')\n",
    "axs[2].set_title('Y - Velocity [m/s]')\n",
    "divider = make_axes_locatable(axs[2])\n",
    "cax = divider.append_axes(\"right\", size=\"5%\", pad=0.1)\n",
    "plt.colorbar(im3, cax=cax)\n",
    "\n",
    "im4 = axs[3].imshow(grid_w.T,extent=[0,m,0,n])\n",
    "axs[3].set_xlabel('X [m]')\n",
    "axs[3].set_ylabel('Z [m]')\n",
    "axs[3].set_title('Z - Velocity [m/s]')\n",
    "divider = make_axes_locatable(axs[3])\n",
    "cax = divider.append_axes(\"right\", size=\"5%\", pad=0.1)\n",
    "plt.colorbar(im4, cax=cax)\n",
    "\n",
    "plt.tight_layout()"
   ]
  },
  {
   "cell_type": "code",
   "execution_count": null,
   "metadata": {
    "tags": [
     "parameters"
    ]
   },
   "outputs": [],
   "source": [
    "# Individual plots. \n",
    "# Change \"grid_vel\" to \"grid_u\", \"grid_v\", \"grid_w\" to visualize individually.\n",
    "\n",
    "fig = plt.figure(figsize=(6,4),dpi=150)\n",
    "ax = plt.gca()\n",
    "im = plt.imshow(grid_vel.T,extent=[0,m,0,n])\n",
    "plt.xlabel('X [m]')\n",
    "plt.ylabel('Z [m]')\n",
    "plt.title('Velocity Magnitude [m/s]')\n",
    "divider = make_axes_locatable(ax)\n",
    "cax = divider.append_axes(\"right\", size=\"5%\", pad=0.25)\n",
    "plt.colorbar(im, cax=cax)\n",
    "plt.show()"
   ]
  },
  {
   "cell_type": "markdown",
   "metadata": {},
   "source": [
    "# Export interpolated data to CSV"
   ]
  },
  {
   "cell_type": "code",
   "execution_count": null,
   "metadata": {},
   "outputs": [],
   "source": [
    "if savecsv:\n",
    "    header = 'X [m], Y [m], Z [m], Velocity [m/s], X-Velocity [m/s], Y-Velocity [m/s], Z-Velocity [m/s]'\n",
    "    output = np.vstack((xcoord,ycoord,zcoord,magvel,x_vel,y_vel,z_vel)).T\n",
    "    np.savetxt('output.csv',output,fmt='%.16e',delimiter=', ',newline='\\n',header=header, comments='')"
   ]
  }
 ],
 "metadata": {
  "kernelspec": {
   "display_name": "Python 3.10.6 64-bit",
   "language": "python",
   "name": "python3"
  },
  "language_info": {
   "codemirror_mode": {
    "name": "ipython",
    "version": 3
   },
   "file_extension": ".py",
   "mimetype": "text/x-python",
   "name": "python",
   "nbconvert_exporter": "python",
   "pygments_lexer": "ipython3",
   "version": "3.10.6"
  },
  "orig_nbformat": 4,
  "vscode": {
   "interpreter": {
    "hash": "916dbcbb3f70747c44a77c7bcd40155683ae19c65e1c03b4aa3499c5328201f1"
   }
  }
 },
 "nbformat": 4,
 "nbformat_minor": 2
}
